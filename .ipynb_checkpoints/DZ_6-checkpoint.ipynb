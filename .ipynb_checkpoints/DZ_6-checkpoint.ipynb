{
 "cells": [
  {
   "cell_type": "markdown",
   "metadata": {},
   "source": [
    "Печатные газеты использовали свой формат дат для каждого выпуска. Для каждой газеты из списка напишите формат указанной даты для перевода в объект datetime:"
   ]
  },
  {
   "cell_type": "code",
   "execution_count": 9,
   "metadata": {},
   "outputs": [],
   "source": [
    "from datetime import datetime"
   ]
  },
  {
   "cell_type": "code",
   "execution_count": 7,
   "metadata": {},
   "outputs": [
    {
     "name": "stdout",
     "output_type": "stream",
     "text": [
      "2002-10-02 00:00:00\n",
      "2013-10-11 00:00:00\n",
      "1977-08-18 00:00:00\n"
     ]
    }
   ],
   "source": [
    "m_t = The_Moscow_Times = ('Wednesday, October 2, 2002')\n",
    "g = The_Guardian = ('Friday, 11.10.13')\n",
    "d_n = Daily_News = ('Thursday, 18 August 1977')\n",
    "print(datetime.strptime(m_t, '%A, %B %d, %Y'))\n",
    "print(datetime.strptime(g, '%A, %d.%m.%y'))\n",
    "print(datetime.strptime(d_n, '%A, %d %B %Y'))"
   ]
  },
  {
   "cell_type": "markdown",
   "metadata": {},
   "source": [
    "Дан поток дат в формате YYYY-MM-DD, в которых встречаются некорректные значения:\n",
    "Напишите функцию, которая проверяет эти даты на корректность. Т. е. для каждой даты возвращает True (дата корректна) или False (некорректная дата)."
   ]
  },
  {
   "cell_type": "code",
   "execution_count": 69,
   "metadata": {},
   "outputs": [
    {
     "name": "stdout",
     "output_type": "stream",
     "text": [
      "2018-04-02 - 'True'\n",
      "2018-02-29 -'False'\n",
      "2018-19-02 -'False'\n"
     ]
    }
   ],
   "source": [
    "stream = ['2018-04-02', '2018-02-29', '2018-19-02']\n",
    "def dt():\n",
    "    for date in stream:\n",
    "        try:\n",
    "            date_dt = datetime.strptime(date, '%Y-%m-%d')\n",
    "            print(f\"{date} - 'True'\")\n",
    "        except:\n",
    "            print(f\"{date} -'False'\")\n",
    "dt()"
   ]
  },
  {
   "cell_type": "markdown",
   "metadata": {},
   "source": [
    "Напишите функцию date_range, которая возвращает список дат за период от start_date до end_date. Даты должны вводиться в формате YYYY-MM-DD. В случае неверного формата или при start_date > end_date должен возвращаться пустой список."
   ]
  },
  {
   "cell_type": "code",
   "execution_count": 8,
   "metadata": {},
   "outputs": [],
   "source": [
    "from datetime import date, timedelta"
   ]
  },
  {
   "cell_type": "code",
   "execution_count": 81,
   "metadata": {},
   "outputs": [
    {
     "name": "stdout",
     "output_type": "stream",
     "text": [
      "Ошибка формата данных\n"
     ]
    },
    {
     "data": {
      "text/plain": [
       "[]"
      ]
     },
     "execution_count": 81,
     "metadata": {},
     "output_type": "execute_result"
    }
   ],
   "source": [
    "def date_range(start_date,end_date):\n",
    "    try:\n",
    "        corrent_dt = datetime.strptime(start_date,'%Y-%m-%d')\n",
    "        end_date_dt = datetime.strptime(end_date,'%Y-%m-%d')\n",
    "        results = []\n",
    "        if start_date > end_date:\n",
    "            print(\"Дата начала больше даты конца\")\n",
    "            return []\n",
    "        else:\n",
    "            while corrent_dt <= end_date_dt:\n",
    "                results.append(corrent_dt.strftime('%Y-%m-%d'))\n",
    "                corrent_dt += timedelta(days = 1)\n",
    "            return results\n",
    "    except:  \n",
    "        print('Ошибка формата данных')\n",
    "        return []           \n",
    "            \n",
    "date_range('2018-31-01', '2018-01-08')\n",
    "        "
   ]
  },
  {
   "cell_type": "markdown",
   "metadata": {},
   "source": [
    "Задание №4 (бонусное)\n",
    "Ваш коллега прислал код функции:\n",
    "\n",
    "\"\"“\n",
    "Удаляет из списка default_list последнего пользователя\n",
    "и возвращает ID нового последнего пользователя.\n",
    "”\"\""
   ]
  },
  {
   "cell_type": "code",
   "execution_count": 1,
   "metadata": {},
   "outputs": [
    {
     "data": {
      "text/plain": [
       "'A101'"
      ]
     },
     "execution_count": 1,
     "metadata": {},
     "output_type": "execute_result"
    }
   ],
   "source": [
    "DEFAULT_USER_COUNT = 3\n",
    "def delete_and_return_last_user(region, default_list=['A100', 'A101', 'A102']):\n",
    "    element_to_delete = default_list[-1]\n",
    "    default_list.remove(element_to_delete)\n",
    "    return default_list[DEFAULT_USER_COUNT-2]\n",
    "\n",
    "delete_and_return_last_user(1)\n",
    "delete_and_return_last_user(1)"
   ]
  },
  {
   "cell_type": "markdown",
   "metadata": {},
   "source": [
    "1. Что значит ошибка list index out of range?\n",
    "Значение ошибки: индекс списка вышел за границы диапазона.\n",
    "2. Почему при первом запуске функция работает корректно, а при втором - нет?\n",
    "Ошибка происходит, потому что при каждой итерации происходит уменьшение списка. В следствии чего return возвращает default_list[3-2(первая итерация) = 1 - 2 (повторное обращение) = -1]. Так как по условию задачи последний элемент удаляем и возвращаем последний оставшийся, у нас получается удаление последенго в списке и попытка возвращения этого же элемента."
   ]
  }
 ],
 "metadata": {
  "kernelspec": {
   "display_name": "Python 3",
   "language": "python",
   "name": "python3"
  },
  "language_info": {
   "codemirror_mode": {
    "name": "ipython",
    "version": 3
   },
   "file_extension": ".py",
   "mimetype": "text/x-python",
   "name": "python",
   "nbconvert_exporter": "python",
   "pygments_lexer": "ipython3",
   "version": "3.8.3"
  }
 },
 "nbformat": 4,
 "nbformat_minor": 4
}
